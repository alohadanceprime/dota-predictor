{
 "cells": [
  {
   "cell_type": "code",
   "execution_count": 1,
   "id": "7467b35f-9f6e-4683-8a7f-73a95b3f3118",
   "metadata": {},
   "outputs": [],
   "source": [
    "import pandas as pd\n",
    "import torch\n",
    "import torch.nn as nn\n",
    "from torchmetrics import Accuracy\n",
    "from torch.utils.data import DataLoader, Dataset\n",
    "from sklearn.model_selection import train_test_split"
   ]
  },
  {
   "cell_type": "code",
   "execution_count": 2,
   "id": "048a0060-7edf-4990-8616-855a425db34e",
   "metadata": {},
   "outputs": [],
   "source": [
    "torch.manual_seed(42)\n",
    "torch.cuda.manual_seed(42)\n",
    "device = \"cuda\" if torch.cuda.is_available() else \"cpu\""
   ]
  },
  {
   "cell_type": "code",
   "execution_count": 3,
   "id": "4f6d51cd-6741-410c-b5c7-c7c7db633b54",
   "metadata": {},
   "outputs": [],
   "source": [
    "class Dota2Dataset(Dataset):\n",
    "    def __init__(self, features, labels):\n",
    "        self.features = torch.tensor(features, dtype=torch.long)\n",
    "        self.labels = torch.tensor(labels, dtype=torch.float32)\n",
    "\n",
    "    def __len__(self):\n",
    "        return len(self.features)\n",
    "\n",
    "    def __getitem__(self, idx):\n",
    "        return self.features[idx], self.labels[idx]"
   ]
  },
  {
   "cell_type": "code",
   "execution_count": 4,
   "id": "930506db-af1a-4ae0-bd51-d70d0ce31b4c",
   "metadata": {},
   "outputs": [],
   "source": [
    "df = pd.read_csv(\"data.csv\")\n",
    "X = df.drop([\"radiant_win\"], axis = 1)\n",
    "y = df[\"radiant_win\"]\n",
    "X = torch.from_numpy(X.values).long()\n",
    "y = torch.from_numpy(y.values).long()"
   ]
  },
  {
   "cell_type": "code",
   "execution_count": 5,
   "id": "43b03acf-2505-434f-9d07-9a5970e30006",
   "metadata": {},
   "outputs": [
    {
     "name": "stderr",
     "output_type": "stream",
     "text": [
      "C:\\Users\\nobod\\AppData\\Local\\Temp\\ipykernel_15744\\1638339005.py:3: UserWarning: To copy construct from a tensor, it is recommended to use sourceTensor.clone().detach() or sourceTensor.clone().detach().requires_grad_(True), rather than torch.tensor(sourceTensor).\n",
      "  self.features = torch.tensor(features, dtype=torch.long)\n",
      "C:\\Users\\nobod\\AppData\\Local\\Temp\\ipykernel_15744\\1638339005.py:4: UserWarning: To copy construct from a tensor, it is recommended to use sourceTensor.clone().detach() or sourceTensor.clone().detach().requires_grad_(True), rather than torch.tensor(sourceTensor).\n",
      "  self.labels = torch.tensor(labels, dtype=torch.float32)\n"
     ]
    }
   ],
   "source": [
    "X_train, X_test, y_train, y_test = train_test_split(X, y, test_size=0.1, stratify=y, random_state=42)\n",
    "train_dataset = Dota2Dataset(X_train, y_train)\n",
    "test_dataset = Dota2Dataset(X_test, y_test)\n",
    "train_loader = DataLoader(train_dataset, batch_size=1000000, shuffle=True)\n",
    "test_loader = DataLoader(test_dataset, batch_size=1000000, shuffle=False)"
   ]
  },
  {
   "cell_type": "code",
   "execution_count": 6,
   "id": "a487828b-0fdb-47ba-afea-5fddc49c857a",
   "metadata": {},
   "outputs": [],
   "source": [
    "class Dota2Model(nn.Module):\n",
    "    def __init__(self, num_heroes, embedding_dim, hidden_dim):\n",
    "        super().__init__()\n",
    "        self.embedding = nn.Embedding(num_embeddings=num_heroes, embedding_dim=embedding_dim)\n",
    "        \n",
    "        input_dim = (embedding_dim * 2) + 1 \n",
    "\n",
    "        self.layers = nn.Sequential(\n",
    "            nn.Linear(in_features=input_dim, out_features=hidden_dim),\n",
    "            nn.ReLU(),\n",
    "            nn.Linear(hidden_dim, hidden_dim // 2),\n",
    "            nn.ReLU(),\n",
    "            nn.Linear(hidden_dim // 2, hidden_dim // 4),\n",
    "            nn.ReLU(),\n",
    "            nn.Linear(hidden_dim // 4, out_features=hidden_dim // 8),\n",
    "            nn.ReLU(),\n",
    "            nn.Linear(hidden_dim // 8, out_features=hidden_dim // 8),\n",
    "            nn.ReLU(),\n",
    "            nn.Linear(hidden_dim // 8, out_features=hidden_dim // 8),\n",
    "            nn.Linear(hidden_dim // 8, out_features=hidden_dim // 8),\n",
    "            nn.Linear(hidden_dim // 8, out_features=1)\n",
    "        )\n",
    "\n",
    "    def forward(self, match):\n",
    "        avg_rank_tier = match[:, 0]\n",
    "        radiant_teams = match[:, 1:6]\n",
    "        dire_teams = match[:, 6:]\n",
    "        \n",
    "        radiant_embeds = self.embedding(radiant_teams)\n",
    "        dire_embeds = self.embedding(dire_teams)\n",
    "        \n",
    "        radiant_embeds = radiant_embeds.mean(dim=1)\n",
    "        dire_embeds = dire_embeds.mean(dim=1)\n",
    "        \n",
    "        combined_teams = torch.cat([avg_rank_tier.unsqueeze(1), radiant_embeds, dire_embeds], dim=1)\n",
    "        \n",
    "        return self.layers(combined_teams)"
   ]
  },
  {
   "cell_type": "code",
   "execution_count": 7,
   "id": "966d19bf-795d-4b24-bfb4-febc5de4f7c0",
   "metadata": {},
   "outputs": [],
   "source": [
    "dota_2_model = Dota2Model(X.max().item()+1, 256, 256).to(device)"
   ]
  },
  {
   "cell_type": "code",
   "execution_count": 8,
   "id": "9234abc6-dc45-411b-a6f4-51ba077ff7d0",
   "metadata": {},
   "outputs": [],
   "source": [
    "loss_function = nn.BCEWithLogitsLoss().to(device)\n",
    "optimizer = torch.optim.Adam(params=dota_2_model.parameters(), lr=0.01)\n",
    "accuracy_function = Accuracy(task=\"binary\").to(device)"
   ]
  },
  {
   "cell_type": "code",
   "execution_count": 9,
   "id": "7bbca705-ce61-4f4d-9998-dcd20e2c5832",
   "metadata": {},
   "outputs": [],
   "source": [
    "def training_step(model: nn.Module, data_loader: DataLoader, \n",
    "                  loss_function: torch.nn, optimizer: torch.optim, \n",
    "                  accuracy_function: Accuracy):\n",
    "    model.train()\n",
    "    for batch, (match, match_results) in enumerate(data_loader):\n",
    "        match, match_results = match.to(device), match_results.to(device)\n",
    "        y_logits = model(match).squeeze()\n",
    "        y_preds = torch.round(torch.sigmoid(y_logits))\n",
    "        \n",
    "        match_results = match_results.float()\n",
    "\n",
    "        loss = loss_function(y_logits, match_results)\n",
    "        acc = accuracy_function(match_results, y_preds)\n",
    "        optimizer.zero_grad()\n",
    "        loss.backward()\n",
    "        optimizer.step()\n",
    "\n",
    "    print(f\"Training accuracy: {acc*100}%\")"
   ]
  },
  {
   "cell_type": "code",
   "execution_count": 10,
   "id": "e9cdcc30-ff87-4760-9b1e-111e9a63bd6e",
   "metadata": {},
   "outputs": [],
   "source": [
    "def testing_step(model: nn.Module, data_loader: DataLoader, \n",
    "                 accuracy_function: Accuracy):\n",
    "    model.eval()\n",
    "    with torch.inference_mode():\n",
    "        for match, match_results in data_loader:\n",
    "            match, match_results = match.to(device), match_results.to(device)\n",
    "            y_logits = model(match).squeeze()\n",
    "            y_preds = torch.round(torch.sigmoid(y_logits))\n",
    "            \n",
    "            match_results = match_results.float()\n",
    "\n",
    "            acc = accuracy_function(match_results, y_preds)\n",
    "        print(f\"Testing accuracy: {acc*100}%\")"
   ]
  },
  {
   "cell_type": "code",
   "execution_count": 11,
   "id": "c5e29a97-5406-48b4-a2e2-3222697706bd",
   "metadata": {},
   "outputs": [
    {
     "name": "stdout",
     "output_type": "stream",
     "text": [
      "Epoch 1/24\n",
      "Training accuracy: 58.25104522705078%\n",
      "Testing accuracy: 58.24758529663086%\n",
      "Epoch 2/24\n",
      "Training accuracy: 58.25104522705078%\n",
      "Testing accuracy: 58.24758529663086%\n",
      "Epoch 3/24\n",
      "Training accuracy: 58.25104522705078%\n",
      "Testing accuracy: 58.24758529663086%\n",
      "Epoch 4/24\n",
      "Training accuracy: 58.25104522705078%\n",
      "Testing accuracy: 58.24758529663086%\n",
      "Epoch 5/24\n",
      "Training accuracy: 58.25104522705078%\n",
      "Testing accuracy: 58.24758529663086%\n",
      "Epoch 6/24\n",
      "Training accuracy: 58.25104522705078%\n",
      "Testing accuracy: 58.24758529663086%\n",
      "Epoch 7/24\n",
      "Training accuracy: 58.25104522705078%\n",
      "Testing accuracy: 58.24758529663086%\n",
      "Epoch 8/24\n",
      "Training accuracy: 58.25104522705078%\n",
      "Testing accuracy: 58.24758529663086%\n",
      "Epoch 9/24\n",
      "Training accuracy: 58.25104522705078%\n",
      "Testing accuracy: 58.24758529663086%\n",
      "Epoch 10/24\n",
      "Training accuracy: 58.25104522705078%\n",
      "Testing accuracy: 58.24758529663086%\n",
      "Epoch 11/24\n",
      "Training accuracy: 58.25104522705078%\n",
      "Testing accuracy: 58.24758529663086%\n",
      "Epoch 12/24\n",
      "Training accuracy: 58.25104522705078%\n",
      "Testing accuracy: 59.21421813964844%\n",
      "Epoch 13/24\n",
      "Training accuracy: 59.06523895263672%\n",
      "Testing accuracy: 62.737762451171875%\n",
      "Epoch 14/24\n",
      "Training accuracy: 63.406436920166016%\n",
      "Testing accuracy: 60.96039962768555%\n",
      "Epoch 15/24\n",
      "Training accuracy: 62.87287902832031%\n",
      "Testing accuracy: 64.01622009277344%\n",
      "Epoch 16/24\n",
      "Training accuracy: 64.16172790527344%\n",
      "Testing accuracy: 64.32803344726562%\n",
      "Epoch 17/24\n",
      "Training accuracy: 64.8407974243164%\n",
      "Testing accuracy: 64.76457977294922%\n",
      "Epoch 18/24\n",
      "Training accuracy: 65.97720336914062%\n",
      "Testing accuracy: 64.32803344726562%\n",
      "Epoch 19/24\n",
      "Training accuracy: 66.36524200439453%\n",
      "Testing accuracy: 64.51512908935547%\n",
      "Epoch 20/24\n",
      "Training accuracy: 66.88494110107422%\n",
      "Testing accuracy: 65.0140380859375%\n",
      "Epoch 21/24\n",
      "Training accuracy: 67.39424133300781%\n",
      "Testing accuracy: 64.67103576660156%\n",
      "Epoch 22/24\n",
      "Training accuracy: 68.07331085205078%\n",
      "Testing accuracy: 64.4527587890625%\n",
      "Epoch 23/24\n",
      "Training accuracy: 68.6588363647461%\n",
      "Testing accuracy: 64.67103576660156%\n",
      "Epoch 24/24\n",
      "Training accuracy: 69.27554321289062%\n",
      "Testing accuracy: 65.13875579833984%\n"
     ]
    }
   ],
   "source": [
    "epochs = 24\n",
    "for epoch in range(epochs):\n",
    "    print(f\"Epoch {epoch + 1}/{epochs}\")\n",
    "    training_step(dota_2_model, train_loader, loss_function, optimizer, accuracy_function)\n",
    "    testing_step(dota_2_model, test_loader, accuracy_function)"
   ]
  },
  {
   "cell_type": "code",
   "execution_count": 12,
   "id": "db861249-5bda-48c1-89ec-55cd20c21772",
   "metadata": {},
   "outputs": [],
   "source": [
    "torch.save(obj=dota_2_model.state_dict(),\n",
    "           f=\"model.pth\")"
   ]
  },
  {
   "cell_type": "code",
   "execution_count": null,
   "id": "e4a4a8d4-ccac-45fc-86c6-fd8dbf09232e",
   "metadata": {},
   "outputs": [],
   "source": []
  }
 ],
 "metadata": {
  "kernelspec": {
   "display_name": "Python 3 (ipykernel)",
   "language": "python",
   "name": "python3"
  },
  "language_info": {
   "codemirror_mode": {
    "name": "ipython",
    "version": 3
   },
   "file_extension": ".py",
   "mimetype": "text/x-python",
   "name": "python",
   "nbconvert_exporter": "python",
   "pygments_lexer": "ipython3",
   "version": "3.12.3"
  }
 },
 "nbformat": 4,
 "nbformat_minor": 5
}
