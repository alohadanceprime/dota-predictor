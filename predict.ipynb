{
 "cells": [
  {
   "cell_type": "code",
   "execution_count": 1,
   "id": "4d92285a-c56d-415f-86b5-1ba2d196aaa1",
   "metadata": {},
   "outputs": [],
   "source": [
    "import requests\n",
    "import torch\n",
    "import torch.nn as nn\n"
   ]
  },
  {
   "cell_type": "code",
   "execution_count": 2,
   "id": "3076fce6-5d2f-49e5-bb28-5228f5b2ea61",
   "metadata": {},
   "outputs": [
    {
     "name": "stderr",
     "output_type": "stream",
     "text": [
      "C:\\Users\\nobod\\AppData\\Local\\Temp\\ipykernel_10420\\1195991031.py:51: FutureWarning: You are using `torch.load` with `weights_only=False` (the current default value), which uses the default pickle module implicitly. It is possible to construct malicious pickle data which will execute arbitrary code during unpickling (See https://github.com/pytorch/pytorch/blob/main/SECURITY.md#untrusted-models for more details). In a future release, the default value for `weights_only` will be flipped to `True`. This limits the functions that could be executed during unpickling. Arbitrary objects will no longer be allowed to be loaded via this mode unless they are explicitly allowlisted by the user via `torch.serialization.add_safe_globals`. We recommend you start setting `weights_only=True` for any use case where you don't have full control of the loaded file. Please open an issue on GitHub for any issues related to this experimental feature.\n",
      "  dota_2_model.load_state_dict(torch.load(\"model.pth\"))\n"
     ]
    },
    {
     "data": {
      "text/plain": [
       "<All keys matched successfully>"
      ]
     },
     "execution_count": 2,
     "metadata": {},
     "output_type": "execute_result"
    }
   ],
   "source": [
    "def get_heroes():\n",
    "    url = \"https://api.opendota.com/api/heroes\"\n",
    "    response = requests.get(url)\n",
    "    if response.status_code == 200:\n",
    "        heroes = response.json()\n",
    "        hero_dict = {hero['localized_name']: hero['id'] for hero in heroes}\n",
    "        return hero_dict\n",
    "    else:\n",
    "        return None\n",
    "class Dota2Model(nn.Module):\n",
    "    def __init__(self, num_heroes, embedding_dim, hidden_dim):\n",
    "        super().__init__()\n",
    "        self.embedding = nn.Embedding(num_embeddings=num_heroes, embedding_dim=embedding_dim)\n",
    "        \n",
    "        input_dim = (embedding_dim * 2) + 1 \n",
    "\n",
    "        self.layers = nn.Sequential(\n",
    "            nn.Linear(in_features=input_dim, out_features=hidden_dim),\n",
    "            nn.ReLU(),\n",
    "            nn.Linear(hidden_dim, hidden_dim // 2),\n",
    "            nn.ReLU(),\n",
    "            nn.Linear(hidden_dim // 2, hidden_dim // 4),\n",
    "            nn.ReLU(),\n",
    "            nn.Linear(hidden_dim // 4, out_features=hidden_dim // 8),\n",
    "            nn.ReLU(),\n",
    "            nn.Linear(hidden_dim // 8, out_features=hidden_dim // 8),\n",
    "            nn.ReLU(),\n",
    "            nn.Linear(hidden_dim // 8, out_features=hidden_dim // 8),\n",
    "            nn.Linear(hidden_dim // 8, out_features=hidden_dim // 8),\n",
    "            nn.Linear(hidden_dim // 8, out_features=1)\n",
    "        )\n",
    "\n",
    "    def forward(self, match):\n",
    "        avg_rank_tier = match[:, 0]\n",
    "        radiant_teams = match[:, 1:6]\n",
    "        dire_teams = match[:, 6:]\n",
    "        \n",
    "        radiant_embeds = self.embedding(radiant_teams)\n",
    "        dire_embeds = self.embedding(dire_teams)\n",
    "        \n",
    "        radiant_embeds = radiant_embeds.mean(dim=1)\n",
    "        dire_embeds = dire_embeds.mean(dim=1)\n",
    "        \n",
    "        combined_teams = torch.cat([avg_rank_tier.unsqueeze(1), radiant_embeds, dire_embeds], dim=1)\n",
    "        \n",
    "        return self.layers(combined_teams)\n",
    "\n",
    "heroes = get_heroes()\n",
    "ranks = {\"Herald\": 0, \"Guardian\": 5, \"Crusader\": 10, \"Archon\": 15, \"Legend\": 20, \"Ancient\": 25, \"Divine\": 30, \"Immortal\": 35}\n",
    "dota_2_model = Dota2Model(max(heroes.values())+1, 256, 256)\n",
    "dota_2_model.load_state_dict(torch.load(\"model.pth\"))"
   ]
  },
  {
   "cell_type": "code",
   "execution_count": 3,
   "id": "43d7c547-671f-489a-a866-6de1281288ae",
   "metadata": {},
   "outputs": [
    {
     "name": "stdout",
     "output_type": "stream",
     "text": [
      "Choose avg rank\n",
      "Herald\n",
      "Guardian\n",
      "Crusader\n",
      "Archon\n",
      "Legend\n",
      "Ancient\n",
      "Divine\n",
      "Immortal\n"
     ]
    },
    {
     "name": "stdin",
     "output_type": "stream",
     "text": [
      "Avg rank is:  Immortal\n"
     ]
    },
    {
     "name": "stdout",
     "output_type": "stream",
     "text": [
      "How many stars you have?\n"
     ]
    },
    {
     "name": "stdin",
     "output_type": "stream",
     "text": [
      " 1\n"
     ]
    },
    {
     "name": "stdout",
     "output_type": "stream",
     "text": [
      "dict_keys(['Anti-Mage', 'Axe', 'Bane', 'Bloodseeker', 'Crystal Maiden', 'Drow Ranger', 'Earthshaker', 'Juggernaut', 'Mirana', 'Morphling', 'Shadow Fiend', 'Phantom Lancer', 'Puck', 'Pudge', 'Razor', 'Sand King', 'Storm Spirit', 'Sven', 'Tiny', 'Vengeful Spirit', 'Windranger', 'Zeus', 'Kunkka', 'Lina', 'Lion', 'Shadow Shaman', 'Slardar', 'Tidehunter', 'Witch Doctor', 'Lich', 'Riki', 'Enigma', 'Tinker', 'Sniper', 'Necrophos', 'Warlock', 'Beastmaster', 'Queen of Pain', 'Venomancer', 'Faceless Void', 'Wraith King', 'Death Prophet', 'Phantom Assassin', 'Pugna', 'Templar Assassin', 'Viper', 'Luna', 'Dragon Knight', 'Dazzle', 'Clockwerk', 'Leshrac', \"Nature's Prophet\", 'Lifestealer', 'Dark Seer', 'Clinkz', 'Omniknight', 'Enchantress', 'Huskar', 'Night Stalker', 'Broodmother', 'Bounty Hunter', 'Weaver', 'Jakiro', 'Batrider', 'Chen', 'Spectre', 'Ancient Apparition', 'Doom', 'Ursa', 'Spirit Breaker', 'Gyrocopter', 'Alchemist', 'Invoker', 'Silencer', 'Outworld Destroyer', 'Lycan', 'Brewmaster', 'Shadow Demon', 'Lone Druid', 'Chaos Knight', 'Meepo', 'Treant Protector', 'Ogre Magi', 'Undying', 'Rubick', 'Disruptor', 'Nyx Assassin', 'Naga Siren', 'Keeper of the Light', 'Io', 'Visage', 'Slark', 'Medusa', 'Troll Warlord', 'Centaur Warrunner', 'Magnus', 'Timbersaw', 'Bristleback', 'Tusk', 'Skywrath Mage', 'Abaddon', 'Elder Titan', 'Legion Commander', 'Techies', 'Ember Spirit', 'Earth Spirit', 'Underlord', 'Terrorblade', 'Phoenix', 'Oracle', 'Winter Wyvern', 'Arc Warden', 'Monkey King', 'Dark Willow', 'Pangolier', 'Grimstroke', 'Hoodwink', 'Void Spirit', 'Snapfire', 'Mars', 'Ringmaster', 'Dawnbreaker', 'Marci', 'Primal Beast', 'Muerta'])\n",
      "Choose radiant team\n"
     ]
    },
    {
     "name": "stdin",
     "output_type": "stream",
     "text": [
      " Ursa\n",
      " Sand King\n",
      " Nature's Prophet\n",
      " Monkey King\n",
      " Weaver\n"
     ]
    },
    {
     "name": "stdout",
     "output_type": "stream",
     "text": [
      "Choose dire team\n"
     ]
    },
    {
     "name": "stdin",
     "output_type": "stream",
     "text": [
      " Void Spirit\n",
      " Queen of Pain\n",
      " Timbersaw\n",
      " Ringmaster\n",
      " Tinker\n"
     ]
    }
   ],
   "source": [
    "print(\"Choose avg rank\")\n",
    "for rank in ranks:\n",
    "    print(rank)\n",
    "rank = ranks[input(\"Avg rank is: \")]\n",
    "print(\"How many stars you have?\")\n",
    "rank += int(input())\n",
    "game = [rank]\n",
    "print(heroes.keys())\n",
    "print(\"Choose radiant team\")\n",
    "for i in range(5):\n",
    "    game.append(heroes[input()])\n",
    "print(\"Choose dire team\")\n",
    "for i in range(5):\n",
    "    game.append(heroes[input()])\n",
    "game = torch.Tensor(game)"
   ]
  },
  {
   "cell_type": "markdown",
   "id": "683eb600-7d95-496c-bd75-ce47dd4ee005",
   "metadata": {},
   "source": [
    "Heroes from 7917084099"
   ]
  },
  {
   "cell_type": "code",
   "execution_count": 4,
   "id": "e9c3f175-6411-41c8-a93f-6c65c077fc67",
   "metadata": {},
   "outputs": [
    {
     "name": "stdout",
     "output_type": "stream",
     "text": [
      "Radiant chance to win 28.933444619178772%\n"
     ]
    }
   ],
   "source": [
    "dota_2_model.eval()\n",
    "with torch.inference_mode():\n",
    "    y_logit = dota_2_model(game.unsqueeze(0).long())\n",
    "    y_pred = torch.sigmoid(y_logit)\n",
    "print(f\"Radiant chance to win {y_pred.squeeze(1).item()*100}%\")"
   ]
  },
  {
   "cell_type": "code",
   "execution_count": null,
   "id": "ad3cc383-210e-45c0-9dea-de9e7944ba50",
   "metadata": {},
   "outputs": [],
   "source": []
  },
  {
   "cell_type": "code",
   "execution_count": null,
   "id": "9db45587-8779-4a3e-bfeb-8cce7ec5e31b",
   "metadata": {},
   "outputs": [],
   "source": []
  }
 ],
 "metadata": {
  "kernelspec": {
   "display_name": "Python 3 (ipykernel)",
   "language": "python",
   "name": "python3"
  },
  "language_info": {
   "codemirror_mode": {
    "name": "ipython",
    "version": 3
   },
   "file_extension": ".py",
   "mimetype": "text/x-python",
   "name": "python",
   "nbconvert_exporter": "python",
   "pygments_lexer": "ipython3",
   "version": "3.12.3"
  }
 },
 "nbformat": 4,
 "nbformat_minor": 5
}
